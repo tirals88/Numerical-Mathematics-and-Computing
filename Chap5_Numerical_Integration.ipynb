{
  "nbformat": 4,
  "nbformat_minor": 0,
  "metadata": {
    "colab": {
      "provenance": [],
      "collapsed_sections": [
        "qgU8arQU-DS2"
      ],
      "authorship_tag": "ABX9TyNMxaT0xYbSABBfw6uytFiM",
      "include_colab_link": true
    },
    "kernelspec": {
      "name": "python3",
      "display_name": "Python 3"
    },
    "language_info": {
      "name": "python"
    }
  },
  "cells": [
    {
      "cell_type": "markdown",
      "metadata": {
        "id": "view-in-github",
        "colab_type": "text"
      },
      "source": [
        "<a href=\"https://colab.research.google.com/github/tirals88/Numerical-Mathematics-and-Computing/blob/main/Chap5_Numerical_Integration.ipynb\" target=\"_parent\"><img src=\"https://colab.research.google.com/assets/colab-badge.svg\" alt=\"Open In Colab\"/></a>"
      ]
    },
    {
      "cell_type": "code",
      "execution_count": 2,
      "metadata": {
        "id": "TFW2fn8W05Vm"
      },
      "outputs": [],
      "source": [
        "import numpy as np\n",
        "import matplotlib.pyplot as plt\n",
        "import pandas as pd\n",
        "import math"
      ]
    },
    {
      "cell_type": "markdown",
      "source": [
        "# 5.1 사다리꼴 방법"
      ],
      "metadata": {
        "id": "qgU8arQU-DS2"
      }
    },
    {
      "cell_type": "markdown",
      "source": [
        "기본 사다리꼴 등식 : $\\int^{b}_{a}{f(x)dx}\\approx \\frac{1}{2}\\sum^{n-1}_{i=0}{(x_{i+1}- x_{i})[(f(x_{i})+f(x_{i+1}))]}$\n",
        "\n",
        "등간격 분할 구간 Partition $P$에 대한 사다리꼴 공식 : $\\int^{b}_{a}{f(x)dx}\\approx T(f\\;; P) = \\frac{h}{2}[f(x_{0}) + f(x_{n})] + h\\sum^{n-1}_{i=1}{f(x_{i})} \\:\\:\\: (h = x_{i+1} - x_{i} = (b-a)/n)$"
      ],
      "metadata": {
        "id": "0KML4W2vRB0s"
      }
    },
    {
      "cell_type": "markdown",
      "source": [
        "오차 함수 error funciton을 통해 적분에 대한 근사의 성능을 판단할 수 있다.\n",
        "</br></br>\n",
        "$\\boxtimes$ **정리 1** 복합 사다리꼴 공식의 정밀도에 대한 정리\n",
        "\n",
        "만일 $f''$이 구간 $[a,b]$에서 존재하고 연속이며, 적분 $I = \\int^{b}_{a}{f(x)}$를 근사하기 위해 균등한 $h$ 간격의 분할로 복합 사다리꼴 공식 $T$가 사용되었다면 구간 $(a,b)$에 속하는 어떤 $\\zeta$에 대하여 다음이 성립한다.\n",
        "\n",
        "$$I - T = -\\frac{1}{12}(b-a)h^{2}f''(\\zeta) = \\mathcal{O}(h^2)$$\n",
        "\n",
        "**증명**\n",
        "\n",
        "먼저 단일 구간에 대해서 증명한다. 단일 구간 $[x_{i}, x_{i+1}]$내의 두 점을 이용하여 $f$를 보간하는 1차 다항식은 다음과 같다.\n",
        "\n",
        "$$f(x) \\approx p_{1}(x) = f(x_{i}) + \\frac{[f(x_{i+1})-f(x_{i})]}{x_{i+1} - x_{i}}(x - x_{i})$$\n",
        "\n",
        "$$\\int{p_{1}{(x)}}=f(x_{i})(x_{i+1}- x_{i}) + \\frac{1}{2}[f(x_{i+1})-f(x_{i})](x_{i}- x_{i+1}) = \\frac{1}{2}[f(x_{i+1})+f(x_{i})](x_{i}- x_{i+1})$$\n",
        "\n",
        "보간 오차 정리에 의해 다음을 얻는다.\n",
        "\n",
        "$$f(x) - p_{1}(x) = \\frac{1}{(n+1)!}f^{(n+1)}(\\xi)\\prod^{n}_{i=1}(x-x_{i}) = \\frac{1}{2}f''(\\xi)(x - x_{i+1})(x-x_{i}) \\cdots (1)$$\n",
        "\n",
        "이 때, $\\xi$는 구간 $(x_{i}, x_{i+1})$내의 점이다.\n",
        "\n",
        "식 (1)을 적분을 통해 다음 식을 얻을 수 있다.\n",
        "\n",
        "$$\\int{(f(x) - p_{1}(x))} = \\int{\\frac{1}{2}f''(\\xi)(x_{i+1}-x_{i})} = \\frac{f''(\\xi)}{2}\\int{(x - x_{i+1})(x-x_{i})dx} = -\\frac{f''(\\xi)(x_{i+1}-x_{i})^3}{12}$$\n",
        "\n",
        "$$\\int^{b}_{a} f(x) = \\frac{h}{2}\\sum^{n-1}_{i=0}[f(x_{i+1})+f(x_{i})] - \\frac{h^3}{12}\\sum^{n-1}_{i=0}f''(\\xi_{i})$$\n",
        "\n",
        "위 식의 마지막 항이 오차항이다.\n",
        "\n",
        "$$- \\frac{h^3}{12}\\sum^{n-1}_{i=0}f''(\\xi_{i}) = - \\frac{(b-a)}{12}h^{2}[\\frac{1}{n}\\sum^{n-1}_{i=0}f''(\\xi_{i})] = - \\frac{(b-a)}{12}h^{2}f''(\\zeta)$$\n",
        "\n",
        "사잇값 정리에 의해 각 구간별 오차의 평균은 해당 오차들의 최솟값과 최댓값 사이에 있음을 알 수 있다."
      ],
      "metadata": {
        "id": "Mq0riF0zTgdv"
      }
    },
    {
      "cell_type": "markdown",
      "source": [
        "적분 $\\int^{1}_{0}{\\frac{sin(x)}{x}dx}$와 같은 꼴의 함수는 사다리꼴 공식을 사용하여 오차의 상한 등을 구할 때, 일반적인 미분법으로 구하는 것을 좋지 않다. 각 미분이 $x$의 음의 지수를 포함하기 때문이다.\n",
        "\n",
        "이런 경우, 테일러 급수를 이용하는 것도 하나의 방법이다.\n",
        "\n",
        "$$f(x) = 1 - \\frac{x^2}{3!} + \\frac{x^{4}}{5!} - \\cdots$$\n",
        "</br></br>\n",
        "$$f''(x) = -\\frac{2}{3!} + \\frac{3\\times4x^{2}}{5!} - \\frac{5\\times6x^{4}}{7!} + \\cdots$$"
      ],
      "metadata": {
        "id": "jyZYMh6Wwkfu"
      }
    },
    {
      "cell_type": "markdown",
      "source": [
        "$\\boxtimes$ **정리 2** 재귀 사다리꼴 공식\n",
        "\n",
        "구간을 $n$ 개가 아닌 $2^n$개로 나누었을 때의 복합 사다리꼴 공식을 적용한 값을 **$R(n, 0)$**이라 하고 롬베르크 알고리즘에서 사용한다.\n",
        "\n",
        "$$R(n, 0) = h\\sum^{2^{n}-1}_{i=1}{f(a+ih)} +\\frac{h}{2}{[f(a)+f(b)]}$$\n",
        "\n",
        "만일 $R(n-1, 0)$이 이미 계되어 있고, $R(n, 0)$을 계산해야 한다면 다음 등식을 활용한다.\n",
        "$$R(n, 0) = \\frac{1}{2}R(n-1, 0) + [R(n, 0) - \\frac{1}{2}R(n-1, 0)] = \\frac{1}{2}R(n-1, 0) + h\\sum^{2^{n}-1}_{k=1}{f(a+(2k-1)h)}$$"
      ],
      "metadata": {
        "id": "zz5JQOvmY1lT"
      }
    },
    {
      "cell_type": "code",
      "source": [
        "def Trapezoid(f, a, b, n):\n",
        "  df = []\n",
        "  h = (b-a)/n\n",
        "  T = h/2*(f(a)+f(b))\n",
        "  for i in range(n-1):\n",
        "    i = i+1\n",
        "    T += h*f(a + h*i)\n",
        "    df.append(T)\n",
        "\n",
        "  df = pd.DataFrame(df)\n",
        "  #print(df)\n",
        "  return T"
      ],
      "metadata": {
        "id": "rCsPkDYLATR-"
      },
      "execution_count": 9,
      "outputs": []
    },
    {
      "cell_type": "code",
      "source": [
        "#ex1\n",
        "\n",
        "def ex1(x):\n",
        "  if x==0:\n",
        "    #print(1)\n",
        "    return 1\n",
        "\n",
        "  #print((np.sin(x))/x)\n",
        "  return np.sin(x)/x\n",
        "\n",
        "a= Trapezoid(ex1, 0, 1, 5)\n",
        "a"
      ],
      "metadata": {
        "colab": {
          "base_uri": "https://localhost:8080/"
        },
        "id": "UolcQr9rtW_R",
        "outputId": "8ab40aa1-2f19-457e-cc3e-4cdc8b70dad6"
      },
      "execution_count": 37,
      "outputs": [
        {
          "output_type": "execute_result",
          "data": {
            "text/plain": [
              "0.945078780953402"
            ]
          },
          "metadata": {},
          "execution_count": 37
        }
      ]
    },
    {
      "cell_type": "code",
      "source": [
        "#3\n",
        "def f3(x):\n",
        "  return 4/(1+x**2)\n",
        "\n",
        "Trapezoid(f3, 0, 1, 408) - np.pi"
      ],
      "metadata": {
        "colab": {
          "base_uri": "https://localhost:8080/"
        },
        "id": "2rg95cV1uCGB",
        "outputId": "1929e75a-dce2-4757-eb70-36f216633f9f"
      },
      "execution_count": 16,
      "outputs": [
        {
          "output_type": "execute_result",
          "data": {
            "text/plain": [
              "-1.0012174787021877e-06"
            ]
          },
          "metadata": {},
          "execution_count": 16
        }
      ]
    },
    {
      "cell_type": "code",
      "source": [
        "Trapezoid(f3, 0, 1, 409) - np.pi"
      ],
      "metadata": {
        "colab": {
          "base_uri": "https://localhost:8080/"
        },
        "id": "NbzOl2nq7URj",
        "outputId": "0f0b3073-a993-4b30-9056-0a440424b4f5"
      },
      "execution_count": 17,
      "outputs": [
        {
          "output_type": "execute_result",
          "data": {
            "text/plain": [
              "-9.963275373614522e-07"
            ]
          },
          "metadata": {},
          "execution_count": 17
        }
      ]
    },
    {
      "cell_type": "code",
      "source": [
        "## 오차를 1e-6 보다 작기 위해 필요한 n\n",
        "#h^2 < 6*1e-6\n",
        "#h < np.sqrt(6)*1e-3\n",
        "#n > 1000 * 1/np.sqrt(6)\n",
        "1000 /np.sqrt(6)"
      ],
      "metadata": {
        "id": "uwfNOy3zuXIM",
        "colab": {
          "base_uri": "https://localhost:8080/"
        },
        "outputId": "ccb03e56-b8aa-4772-bb20-b201b42eeb3f"
      },
      "execution_count": 18,
      "outputs": [
        {
          "output_type": "execute_result",
          "data": {
            "text/plain": [
              "408.24829046386304"
            ]
          },
          "metadata": {},
          "execution_count": 18
        }
      ]
    },
    {
      "cell_type": "code",
      "source": [
        "#5\n",
        "def f5(x):\n",
        "  return np.exp(-x**2)\n",
        "\n",
        "Trapezoid(f5, 0, 500, 1000) - np.sqrt(np.pi/2)"
      ],
      "metadata": {
        "colab": {
          "base_uri": "https://localhost:8080/"
        },
        "id": "NQACzD-C7RU1",
        "outputId": "987d69cc-e5f4-4a74-9b67-fc743cbe634d"
      },
      "execution_count": 22,
      "outputs": [
        {
          "output_type": "execute_result",
          "data": {
            "text/plain": [
              "-0.36708721186274207"
            ]
          },
          "metadata": {},
          "execution_count": 22
        }
      ]
    },
    {
      "cell_type": "code",
      "source": [
        "def f52(x):\n",
        "  return x**2 * np.log(x)\n",
        "\n",
        "Trapezoid(f52, 1/np.exp(500), 1, 1000) - np.sqrt(np.pi/2)"
      ],
      "metadata": {
        "colab": {
          "base_uri": "https://localhost:8080/"
        },
        "id": "IxXCyWXw9FpX",
        "outputId": "1a72e35f-a672-43a8-da24-1f9ef00b194a"
      },
      "execution_count": 31,
      "outputs": [
        {
          "output_type": "execute_result",
          "data": {
            "text/plain": [
              "-1.3644251650628323"
            ]
          },
          "metadata": {},
          "execution_count": 31
        }
      ]
    },
    {
      "cell_type": "code",
      "source": [
        "Trapezoid(ex1, 0.001, 500, 1000) - np.pi/2"
      ],
      "metadata": {
        "colab": {
          "base_uri": "https://localhost:8080/"
        },
        "id": "_XeqKOeO-qrL",
        "outputId": "38c2e8ef-634c-459f-ad2f-d02b1d0fed8c"
      },
      "execution_count": 40,
      "outputs": [
        {
          "output_type": "execute_result",
          "data": {
            "text/plain": [
              "0.0007395755619785671"
            ]
          },
          "metadata": {},
          "execution_count": 40
        }
      ]
    },
    {
      "cell_type": "code",
      "source": [
        "def f54(x):\n",
        "  return np.sin(1/x)/x\n",
        "Trapezoid(f54, 1/500, 1/0.001, 1000) - np.pi/2"
      ],
      "metadata": {
        "colab": {
          "base_uri": "https://localhost:8080/"
        },
        "id": "igU5aG79_drh",
        "outputId": "874396d4-3878-44a9-a8fc-474e33d154c9"
      },
      "execution_count": 42,
      "outputs": [
        {
          "output_type": "execute_result",
          "data": {
            "text/plain": [
              "-117.04519975455838"
            ]
          },
          "metadata": {},
          "execution_count": 42
        }
      ]
    },
    {
      "cell_type": "code",
      "source": [
        "def f55(x):\n",
        "  return np.sin(x**2)\n",
        "\n",
        "Trapezoid(f55, 0, 500, 1000) - np.sqrt(np.pi/2)/2"
      ],
      "metadata": {
        "colab": {
          "base_uri": "https://localhost:8080/"
        },
        "id": "tuy4wE7lBGkO",
        "outputId": "8f014dd0-ed5c-4de9-c83a-c26839f77986"
      },
      "execution_count": 43,
      "outputs": [
        {
          "output_type": "execute_result",
          "data": {
            "text/plain": [
              "8.88760595894692"
            ]
          },
          "metadata": {},
          "execution_count": 43
        }
      ]
    },
    {
      "cell_type": "code",
      "source": [
        "def f56(x):\n",
        "  return np.sin(np.square(np.tan(x)))/(1+x**2)\n",
        "\n",
        "Trapezoid(f56, 0, np.arctan(500), 1000) - np.sqrt(np.pi/2)/2"
      ],
      "metadata": {
        "colab": {
          "base_uri": "https://localhost:8080/"
        },
        "id": "XAswRa4aBqc5",
        "outputId": "aba8553d-33cb-4f6b-9ca5-db9b224a7c82"
      },
      "execution_count": 46,
      "outputs": [
        {
          "output_type": "execute_result",
          "data": {
            "text/plain": [
              "-0.3866860262377112"
            ]
          },
          "metadata": {},
          "execution_count": 46
        }
      ]
    },
    {
      "cell_type": "code",
      "source": [
        "np.arctan(500)"
      ],
      "metadata": {
        "colab": {
          "base_uri": "https://localhost:8080/"
        },
        "id": "ejdDA3AmCQFt",
        "outputId": "4a47d82b-0dc6-40b1-94a0-6905db4bd8fc"
      },
      "execution_count": 45,
      "outputs": [
        {
          "output_type": "execute_result",
          "data": {
            "text/plain": [
              "1.5687963294615568"
            ]
          },
          "metadata": {},
          "execution_count": 45
        }
      ]
    },
    {
      "cell_type": "code",
      "source": [
        "#7\n",
        "def f7(x):\n",
        "  return np.exp(-x**2)\n",
        "\n",
        "Trapezoid(f7, 0, 1, 59)"
      ],
      "metadata": {
        "colab": {
          "base_uri": "https://localhost:8080/"
        },
        "id": "SyT7umcQCQtj",
        "outputId": "2014bcaf-3566-4e8c-b24d-3b4fd8f06da4"
      },
      "execution_count": 47,
      "outputs": [
        {
          "output_type": "execute_result",
          "data": {
            "text/plain": [
              "0.7468065189579857"
            ]
          },
          "metadata": {},
          "execution_count": 47
        }
      ]
    },
    {
      "cell_type": "code",
      "source": [
        "#9\n",
        "Trapezoid(ex1, 0, 1, 800)"
      ],
      "metadata": {
        "colab": {
          "base_uri": "https://localhost:8080/"
        },
        "id": "BKv_hd_TDSPJ",
        "outputId": "66dfdc29-40d3-4b8a-e5e4-a13e7420c227"
      },
      "execution_count": 49,
      "outputs": [
        {
          "output_type": "execute_result",
          "data": {
            "text/plain": [
              "0.9460830311525118"
            ]
          },
          "metadata": {},
          "execution_count": 49
        }
      ]
    },
    {
      "cell_type": "code",
      "source": [
        "#11\n",
        "def f111(x):\n",
        "  a = np.sqrt(1-4*x**2)\n",
        "  b = -4*x/a\n",
        "  return b\n",
        "\n",
        "\n",
        "\n",
        "print('타원의 길이 : {}'.format(4*Trapezoid(f111, 0, 1/2-1e-6, 1000)))"
      ],
      "metadata": {
        "colab": {
          "base_uri": "https://localhost:8080/"
        },
        "id": "2QVsrt4NDvXZ",
        "outputId": "5ed661e4-00e4-4aef-af51-2c29fdcedcd1"
      },
      "execution_count": 57,
      "outputs": [
        {
          "output_type": "stream",
          "name": "stdout",
          "text": [
            "타원의 길이 : -4.869158784533112\n"
          ]
        }
      ]
    },
    {
      "cell_type": "markdown",
      "source": [
        "# 5.2 롬베르크 알고리즘\n"
      ],
      "metadata": {
        "id": "FYfa-_t5IIAF"
      }
    },
    {
      "cell_type": "markdown",
      "source": [
        "롬베르크 알고리즘 romberg algorithm은 수의 삼각배열을 생성하며 이 배열의 모든 수들의 정적분 $\\int^{b}_{a}{f(x)dx}$에 대한 수치적 근삿값이다.\n",
        "\n",
        "\\begin{equation}\n",
        "\\begin{matrix}\n",
        "R(0, 0) & & & \\\\\n",
        "R(1, 0) & R(1, 1) & & \\\\\n",
        "R(2, 0) & R(2, 1) & R(2, 2) & \\\\\n",
        "R(3, 0) & R(3, 1) & R(3, 2) & R(3, 3)  &\\\\\n",
        "\\vdots & \\vdots & \\vdots & \\vdots & \\ddots\\\\\n",
        "R(n, 0) & R(n,1) & R(n, 2) & R(n,3) & \\cdots & R(n,n)\n",
        "\\end{matrix}\n",
        "\\end{equation}\n",
        "\n",
        "첫째 열은 재귀 사다리꼴 공식에서 부분구간의 길이를 절반씩 줄여가며 $2^{n}$개의 등간격인 부분구간에 사다리꼴 공식을 적용한 결과이다.\n",
        "\n",
        "그 중 $R(0, 0)$은 단 하나의 사다리꼴로 얻어진 값이다.\n",
        "\n",
        "롬베르크 배열의 둘째 열부터 이어지는 열들은 다음 보외법 공식에 의해 생성된다.\n",
        "\n",
        "$$R(n, m) = R(n, m-1) + \\frac{1}{4^{m} -1}[R(n, m-1) - R(n-1, m-1)]$$"
      ],
      "metadata": {
        "id": "kLgPWQzsINQ3"
      }
    },
    {
      "cell_type": "code",
      "source": [
        "def Romberg(f, a, b, n):\n",
        "  df = np.zeros((n, n))\n",
        "  h = b-a\n",
        "  df[0,0] = h/2*(f(a) + f(b))\n",
        "  for i in range(n-1):\n",
        "    i = i+1\n",
        "    h = h/2\n",
        "    sum = 0\n",
        "    for k in np.arange(1, 2**i, 2):\n",
        "      sum = sum + f(a + k*h)\n",
        "\n",
        "    df[i, 0] = df[i-1, 0]/2 + sum*h\n",
        "\n",
        "    for j in range(i):\n",
        "      j = j+1\n",
        "      df[i, j] = df[i, j-1] + (df[i, j-1] - df[i-1, j-1])/(4**j - 1)\n",
        "\n",
        "  return df"
      ],
      "metadata": {
        "id": "OSQ8VQnuILFz"
      },
      "execution_count": 60,
      "outputs": []
    },
    {
      "cell_type": "code",
      "source": [
        "def ex21(x):\n",
        "  return 4/(1+x**2)\n",
        "\n",
        "Romberg(ex21, 0, 1, 5)"
      ],
      "metadata": {
        "colab": {
          "base_uri": "https://localhost:8080/"
        },
        "id": "rgpKRdiGPEaQ",
        "outputId": "b9ae42bc-32f5-4d8b-ec41-db93cab01302"
      },
      "execution_count": 61,
      "outputs": [
        {
          "output_type": "execute_result",
          "data": {
            "text/plain": [
              "array([[3.        , 0.        , 0.        , 0.        , 0.        ],\n",
              "       [3.1       , 3.13333333, 0.        , 0.        , 0.        ],\n",
              "       [3.13117647, 3.14156863, 3.14211765, 0.        , 0.        ],\n",
              "       [3.13898849, 3.1415925 , 3.14159409, 3.14158578, 0.        ],\n",
              "       [3.14094161, 3.14159265, 3.14159266, 3.14159264, 3.14159267]])"
            ]
          },
          "metadata": {},
          "execution_count": 61
        }
      ]
    },
    {
      "cell_type": "code",
      "source": [],
      "metadata": {
        "id": "Yb941t3mPOJ-"
      },
      "execution_count": null,
      "outputs": []
    }
  ]
}