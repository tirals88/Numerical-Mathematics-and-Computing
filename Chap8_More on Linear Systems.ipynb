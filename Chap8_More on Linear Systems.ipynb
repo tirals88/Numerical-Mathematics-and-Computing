{
  "nbformat": 4,
  "nbformat_minor": 0,
  "metadata": {
    "colab": {
      "provenance": [],
      "authorship_tag": "ABX9TyMEtAL1tFDY1NZJJT56E2Zt",
      "include_colab_link": true
    },
    "kernelspec": {
      "name": "python3",
      "display_name": "Python 3"
    },
    "language_info": {
      "name": "python"
    }
  },
  "cells": [
    {
      "cell_type": "markdown",
      "metadata": {
        "id": "view-in-github",
        "colab_type": "text"
      },
      "source": [
        "<a href=\"https://colab.research.google.com/github/tirals88/Numerical-Mathematics-and-Computing/blob/main/Chap8_More%20on%20Linear%20Systems.ipynb\" target=\"_parent\"><img src=\"https://colab.research.google.com/assets/colab-badge.svg\" alt=\"Open In Colab\"/></a>"
      ]
    },
    {
      "cell_type": "code",
      "execution_count": 2,
      "metadata": {
        "id": "TFW2fn8W05Vm"
      },
      "outputs": [],
      "source": [
        "import numpy as np\n",
        "import matplotlib.pyplot as plt\n",
        "import pandas as pd\n",
        "import math\n",
        "\n",
        "%matplotlib inline"
      ]
    },
    {
      "cell_type": "markdown",
      "source": [
        "# 8.1 테일러 급수법"
      ],
      "metadata": {
        "id": "qgU8arQU-DS2"
      }
    },
    {
      "cell_type": "markdown",
      "source": [
        "편미분방정식을 포함한 응용분야에서는 Sparse matrix를 가지는 큰 선형 시스템이 등장한다.\n",
        "\n",
        "가우스 소거법은 0인 성분들을 0이 아닌 값들로 채울 수 있는 반면, 반복법은 행렬의 희박 구조를 보존한다.\n",
        "\n",
        "## LU 분해\n",
        "\n",
        "먼저 $n \\times n$ 선형 연립방정식은 $Ax = b$ 형태를 가지며, 이 때 계수 행렬 A 는 다음의 형태를 가진다.\n",
        "\n",
        "\\begin{equation}\n",
        "A = \\left[ \\begin{array}{}\n",
        "a_{11} & a_{12} & a_{13} & \\dots & a_{1n} \\\\\n",
        "a_{21} & a_{22} & a_{23} & \\dots & a_{1n} \\\\\n",
        "\\vdots & \\vdots & \\vdots & \\ddots & \\vdots \\\\\n",
        "a_{n1} & a_{n2} & a_{n3} & \\dots & a_{nn}\n",
        "\\end{array} \\right]\n",
        "\\end{equation}\n",
        "\n",
        "$A$에 순수 가우스 알고리즘을 적용함으로써 $A$를 단순한 두 행렬의 곱으로 분해할 수 있다.\n",
        "\n",
        "\n",
        "\\begin{equation}\n",
        "L = \\left[ \\begin{array}{}\n",
        "1 &  &  &  &  \\\\\n",
        "l_{21} & 1 &  &  &  \\\\\n",
        "l_{31} & l_{32} & 1 &  &  \\\\\n",
        "\\vdots & \\vdots & \\vdots & \\ddots &  \\\\\n",
        "l_{n1} & l_{n2} & l_{n3} & \\dots & 1\n",
        "\\end{array} \\right],\n",
        "U = \\left[ \\begin{array}{}\n",
        "u_{11} & u_{12} & u_{13} & \\dots & u_{1n} \\\\\n",
        " & u_{22} & u_{23} & \\dots & u_{2n} \\\\\n",
        " &  & u_{33} & \\dots & u_{3n} \\\\\n",
        " & &  & \\ddots & \\vdots \\\\\n",
        " &  &  &  & u_{nn}\n",
        "\\end{array} \\right]\n",
        "\\end{equation}"
      ],
      "metadata": {
        "id": "lUzQCDha4C7s"
      }
    },
    {
      "cell_type": "markdown",
      "source": [
        "$LU$분해를 하기 위해 전진 소거 과정을 거치고 이 과정에서 여러 개의 $M$ 하삼각행렬을 얻게 된다.\n",
        "\n",
        "$A$를 상삼각행렬로 만들기 위해 여러 개의 $M$을 곱하게 되면 다음의 식을 얻게 된다.\n",
        "\n",
        "$$M_{3}M_{2}M_{1}Ax = M_{3}M_{2}M_{1}b$$\n",
        "\n",
        "이제 전진 소거 과정이 완료되었으며 $M = M_{3}M_{2}M_{1}$을 통해 $LU$분해를 얻을 수 있다.\n",
        "\n",
        "추가로 $LU$ 분해 구조는 알고리즘에서 0으로 나누는 경우가 없다는 점에 의존한다.\n",
        "LU 분해를 수행하는 코드로 Doolittle factorization 이 있다.\n"
      ],
      "metadata": {
        "id": "C9qcVQAONaw9"
      }
    },
    {
      "cell_type": "code",
      "source": [
        "#Doolittle factorization\n",
        "def Doolittle(Arr):\n",
        "  arrL = np.zeros_like(Arr)\n",
        "  arrU = np.zeros_like(Arr)\n",
        "  n = Arr.shape[0]\n",
        "  for i in range(n):\n",
        "    arrL[i, i] = 1\n",
        "    for j in range(i, n):\n",
        "      if i > 0:\n",
        "        arrU[i, j] = Arr[i, j] - np.dot(arrL[i, :i], arrU[:i, j])\n",
        "      if i==0:\n",
        "        arrU[i, j] = Arr[i, j]\n",
        "\n",
        "    for k in range(i+1, n):\n",
        "      if i > 0:\n",
        "        arrL[k, i] = (Arr[k, i] - np.dot(arrL[k, :i], arrU[:i, i])) / arrU[i, i]\n",
        "\n",
        "      if i==0:\n",
        "        arrL[k, i] = Arr[k, i]/arrU[i,i]\n",
        "    #print('i = ', i, '\\n', arrL, '\\n', arrU)\n",
        "  return arrL, arrU\n",
        "\n",
        "tempa = np.array([[6, -2, 2, 4], [12, -8, 6, 10], [3, -13, 9, 3], [-6, 4, 1, -18]]).astype(np.float32)\n",
        "[tempaL, tempaU] = Doolittle(tempa)\n",
        "print(tempaL)\n",
        "print(tempaU)\n",
        "print(np.dot(tempaL, tempaU) == tempa)"
      ],
      "metadata": {
        "id": "0er8guNMykow",
        "outputId": "8fb61103-e87b-4992-cfa5-88049bbc3471",
        "colab": {
          "base_uri": "https://localhost:8080/"
        }
      },
      "execution_count": 60,
      "outputs": [
        {
          "output_type": "stream",
          "name": "stdout",
          "text": [
            "[[ 1.   0.   0.   0. ]\n",
            " [ 2.   1.   0.   0. ]\n",
            " [ 0.5  3.   1.   0. ]\n",
            " [-1.  -0.5  2.   1. ]]\n",
            "[[ 6. -2.  2.  4.]\n",
            " [ 0. -4.  2.  2.]\n",
            " [ 0.  0.  2. -5.]\n",
            " [ 0.  0.  0. -3.]]\n",
            "[[ True  True  True  True]\n",
            " [ True  True  True  True]\n",
            " [ True  True  True  True]\n",
            " [ True  True  True  True]]\n"
          ]
        }
      ]
    }
  ]
}