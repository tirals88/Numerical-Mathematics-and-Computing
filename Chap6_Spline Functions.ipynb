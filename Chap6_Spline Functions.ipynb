{
  "nbformat": 4,
  "nbformat_minor": 0,
  "metadata": {
    "colab": {
      "provenance": [],
      "authorship_tag": "ABX9TyPp5dM9HNUrhpRTuIRxPHuf",
      "include_colab_link": true
    },
    "kernelspec": {
      "name": "python3",
      "display_name": "Python 3"
    },
    "language_info": {
      "name": "python"
    }
  },
  "cells": [
    {
      "cell_type": "markdown",
      "metadata": {
        "id": "view-in-github",
        "colab_type": "text"
      },
      "source": [
        "<a href=\"https://colab.research.google.com/github/tirals88/Numerical-Mathematics-and-Computing/blob/main/Chap6_Spline%20Functions.ipynb\" target=\"_parent\"><img src=\"https://colab.research.google.com/assets/colab-badge.svg\" alt=\"Open In Colab\"/></a>"
      ]
    },
    {
      "cell_type": "code",
      "execution_count": 2,
      "metadata": {
        "id": "TFW2fn8W05Vm"
      },
      "outputs": [],
      "source": [
        "import numpy as np\n",
        "import matplotlib.pyplot as plt\n",
        "import pandas as pd\n",
        "import math"
      ]
    },
    {
      "cell_type": "markdown",
      "source": [
        "# 6.1 1차 및 2차 스플라인"
      ],
      "metadata": {
        "id": "qgU8arQU-DS2"
      }
    },
    {
      "cell_type": "markdown",
      "source": [
        "## 1차 스플라인\n",
        "\n",
        "스플라인 함수는 어떤 매끄러운 조건을 가진 다항식의 조각들로 이루어진 함수이다. 예로 다변형 polygonal함수 또는 1차 스플라인으로 불리는 이 함수는 각 조각들이 연속성을 가지고 서로 연결되는 선형 다항식이다.\n",
        "\n",
        "스플라인 이론에서는 함수의 성질이 바뀌는 점인 $t_{0}, t_{1}, t_{2}, \\cdots , t_{n}$을 절점 knot이라 지칭한다.\n",
        "\n",
        "$\\boxtimes$ **정리 1** 1차 스플라인\n",
        "\n",
        "다음을 만족하는 함수 $S$를 1차 스플라인이라 부른다.\n",
        "\n",
        "1. $S$의 정의역은 구간 $[a, b]$이다.\n",
        "2. $S$는 $[a, b]$에서 연속이다.\n",
        "3. 각 부분구간 $[t_{i}, t_{i+1}]$에서 $S$가 선형 다항식임을 만족하는 구간의 분할 $a = t_{0} < t_{1} < \\cdots < t_{n} = b$가 존재한다.\n",
        "\n",
        "일반적으로 구간 $[a, b]$외부에서 $S(x)$는 $a$의 왼쪽 영역에서는 가장 왼쪽의 부분구간 $[t_{0}, t_{1}]$의 함수로 정의하고, $b$의 오른쪽 영역에서는 가장 오른쪽의 부분구간 $[t_{n-1}, t_{n}]$의 함수로 정의한다."
      ],
      "metadata": {
        "id": "lUzQCDha4C7s"
      }
    },
    {
      "cell_type": "markdown",
      "source": [
        "스플라인 부분 : 선형 $S_{i}(x)$\n",
        "\n",
        "구간 $[t_{i}, t_{i+1}]$에서 다음을 얻는다.\n",
        "$$S_{i}(x) = y_{i} + m_{i}(x-t_{i}) = y_{i} + \\frac{y_{i+1} - y_{i}}{t_{i+1} - t_{i}}(x - t_{i})$$"
      ],
      "metadata": {
        "id": "fTrlUwhJ_3PR"
      }
    },
    {
      "cell_type": "markdown",
      "source": [
        "함수 $S$는 계수 $n$개와 상수 $n$개 총 $2n$개의 변수와, $2n$개의 조건으로 변수의 수와 조건의 수가 같다. 조건이라 함은 각 구성 함수 $S_{i}$가 부분구간의 양 끝점에서의 데이터를 보간한다는 것이다.\n",
        "\n",
        "또한 $t_{0} \\leq x \\leq t_{n}$이면, $x$를 포함하는 구간 $[t_{i}, t_{i+1}]$는 $x - t_{i}$가 $x-t_{n-1}, x-t_{n-2}, \\cdots, x-t_{0}$ 중 처음으로 음이 아닌 값이라는 사실로 특정지어진다."
      ],
      "metadata": {
        "id": "U1SbmRzIEyDS"
      }
    },
    {
      "cell_type": "code",
      "source": [
        "#스플라인 1차 함수\n",
        "def Spline1(n, t_, y_, x):\n",
        "  k = 0\n",
        "  for i in range(n):\n",
        "    if not (x - t_[n-1 - i]) < 0:\n",
        "      k = n-1 - i\n",
        "      break\n",
        "\n",
        "  spline_result = y_[k] + (x-t_[k])*(y_[k+1] - y_[k])/(t_[k+1] - t_[k])\n",
        "  return spline_result\n",
        "\n",
        "t_00 = [0, 1, 2, 3]\n",
        "y_00 = [0, 4, 3, 0]\n",
        "#Spline1(3, t_00, y_00, 2.5)\n",
        "\n",
        "x_00 = np.arange(-1, 4.01, 0.01)\n",
        "y_01 = np.array([Spline1(3, t_00, y_00, x__) for x__ in x_00])\n",
        "plt.scatter(x_00, y_01)\n",
        "plt.show()"
      ],
      "metadata": {
        "colab": {
          "base_uri": "https://localhost:8080/",
          "height": 430
        },
        "id": "JyQyBVz94BZU",
        "outputId": "80c4865a-7e57-4775-d020-2ccc7b89d8da"
      },
      "execution_count": 21,
      "outputs": [
        {
          "output_type": "display_data",
          "data": {
            "text/plain": [
              "<Figure size 640x480 with 1 Axes>"
            ],
            "image/png": "[encoded data removed]"
          },
          "metadata": {}
        }
      ]
    },
    {
      "cell_type": "markdown",
      "source": [
        "## 연속계수\n",
        "\n",
        "1차 스플라인을 통해 함수를 보간할 때 그 적합성을 평가하기 위해 함수 $f$의 연속계수 modulus of continuity라는 것을 정의할 필요가 있다.\n",
        "\n",
        "$f$의 연속계수는 다음과 같다.\n",
        "\n",
        "$$w(f;\\;h) = sup\\{|f(u) - f(v)| : a \\leq u \\leq v \\leq b, |u-v| \\leq h\\}$$\n",
        "\n",
        "만약 $f$가 구간 내에서 연속이면 $f$는 균등 연속 uniformly continuous이고, $h$가 $0$에 가까이 감에 따라 $w(f;\\;h)$도 $0$에 가까이 간다. 반대의 경우는 그렇지 않다.\n",
        "\n",
        "만약 $f$가 구간 $(a, b)$에서 미분가능하고 $f'(x)$가 $(a, b)$에서 유계이면 연속계수의 추정값을 얻는 데 평균값 정리를 사용할 수 있다.\n",
        "\n",
        "$$|f(u) - f(v)| = |f'(c)(u-v)| \\leq M_{1} |u-v| \\leq M_{1}h$$\n",
        "\n",
        "그리고 또한 $f$를 보간하는 1차 다항식 $p$가 있고, $h = b-a$일 때, 다음을 얻을수 있다.\n",
        "\n",
        "$$|f(x) - p(x)| \\leq w(f; \\;h)$$\n",
        "\n",
        "**증명**\n",
        "\n",
        "선형 함수 $p$는 다음과 같은 식으로 주어진다.\n",
        "\n",
        "$$p(x) = (\\frac{x-a}{b-a})f(b) + (\\frac{b-x}{b-a})f(a) $$\n",
        "$$f(x) - p(x) = (\\frac{x-a}{b-a})[f(x) - f(b)] + (\\frac{b-x}{b-a})[f(x) - f(a)]$$\n",
        "\n",
        "->\n",
        "\n",
        "\\begin{eqnarray}\n",
        "    |f(x) - p(x)| & \\leq &(\\frac{x-a}{b-a})|f(x) - f(b)| + (\\frac{b-x}{b-a})|f(x) - f(a)| \\\\\n",
        "\t\t& \\leq &(\\frac{x-a}{b-a})w(f;\\;h) + (\\frac{b-x}{b-a})w(f;\\;h) \\\\\n",
        "\t\t& = & [(\\frac{x-a}{b-a}) + (\\frac{b-x}{b-a})]w(f;\\;h) = w(f;\\;h)\n",
        "\\end{eqnarray}"
      ],
      "metadata": {
        "id": "h3VsuEhfKQ5M"
      }
    },
    {
      "cell_type": "markdown",
      "source": [
        "##2차 스플라인"
      ],
      "metadata": {
        "id": "RiE7-k-vZEPy"
      }
    },
    {
      "cell_type": "markdown",
      "source": [
        "$\\boxtimes$ **정리 1** 2차 스플라인\n",
        "\n",
        "다음을 만족하는 함수 $Q$를 2차 스플라인이라 부른다.\n",
        "\n",
        "1. $Q$의 정의역은 구간 $[a, b]$이다.\n",
        "2. $Q$ 와 $Q'$ $[a, b]$에서 연속이다.\n",
        "3. 구간의 분할 $a = t_{0} < t_{1} < \\cdots < t_{n} = b$가 존재하고, $Q$는 각 부분구간 $[t_{i}, t_{i+1}]$에서 최대 2차의 다항식이다.\n",
        "\n",
        "이 때, $Q'(x)$는 연속이므로 $z_{i} \\equiv Q'(t_{i})$로 두면, $Q_{i}$의 식은 다음과 같다.\n",
        "\n",
        "$$Q_{i}(x) = \\frac{z_{i+1} - z_{i}}{2(t_{i+1} - t_{i})}(x-t_{i})^{2} + z_{i}(x - t_{i}) + y_{i}$$\n",
        "\n",
        "그리고 위 식이 연속임을 이용해 수정하면 다음 식을 얻을 수 있다.\n",
        "\n",
        "$$z_{i+1} = -z_{i} + 2(\\frac{y_{i+1} - y_{i}}{t_{i+1}-t_{i}})$$"
      ],
      "metadata": {
        "id": "jBnOObsPZEKy"
      }
    },
    {
      "cell_type": "markdown",
      "source": [
        "이 식은 임의의 값 $z_{0}$으로부터 시작해서 재귀적으로 벡터 $[z_{0}, z_{1}, \\cdots , z_{n}]^{T}$를 얻는 데 사용될 수 있다."
      ],
      "metadata": {
        "id": "TmWKJSwdhfKg"
      }
    },
    {
      "cell_type": "code",
      "source": [
        "#ex3\n",
        "def Spline2(n, t_, y_, x, z_0):\n",
        "  recurs_z = [z_0]\n",
        "  for i in range(n):\n",
        "    recurs_z.append(2*(y_[i+1] - y_[i])/(t_[i+1] - t_[i])-recurs_z[-1] )\n",
        "\n",
        "  k = 0\n",
        "  for i in range(n):\n",
        "    if not (x - t_[n-1 - i]) < 0:\n",
        "      k = n-1 - i\n",
        "      break\n",
        "\n",
        "  spline_result = y_[k] + (x-t_[k])*(recurs_z[k]) + (x-t_[k])**2 * (recurs_z[k+1] - recurs_z[k])/(2*(t_[k+1] - t_[k]))\n",
        "  return spline_result"
      ],
      "metadata": {
        "id": "e5eIdfesZD9G"
      },
      "execution_count": 13,
      "outputs": []
    },
    {
      "cell_type": "code",
      "source": [
        "t_03 = [0, 1, 3, 4, 8]\n",
        "y_03 = [8, 12, 2, 6, 0]\n",
        "\n",
        "x_03 = np.arange(-0.1, 8.01, 0.01)\n",
        "q_031 = np.array([Spline1(4, t_03, y_03, x__) for x__ in x_03])\n",
        "q_032 = np.array([Spline2(4, t_03, y_03, x__, 14) for x__ in x_03])\n",
        "\n",
        "plt.scatter(x_03, q_031)\n",
        "plt.scatter(x_03, q_032)\n",
        "plt.show()"
      ],
      "metadata": {
        "colab": {
          "base_uri": "https://localhost:8080/",
          "height": 430
        },
        "id": "6q3qzWmZJiFy",
        "outputId": "2c497bca-c39d-4318-f09f-350537632236"
      },
      "execution_count": 45,
      "outputs": [
        {
          "output_type": "display_data",
          "data": {
            "text/plain": [
              "<Figure size 640x480 with 1 Axes>"
            ],
            "image/png": "[encoded data removed]"
          },
          "metadata": {}
        }
      ]
    },
    {
      "cell_type": "code",
      "source": [
        "# @title\n",
        "#1\n",
        "def Spline1_up(n, t_, y_, x):\n",
        "  k = 0\n",
        "  for i in range(n):\n",
        "    if not (x - t_[i]) > 0:\n",
        "      k = i+1\n",
        "      break\n",
        "\n",
        "  spline_result = y_[k] + (x-t_[k])*(y_[k+1] - y_[k])/(t_[k+1] - t_[k])\n",
        "  return spline_result"
      ],
      "metadata": {
        "id": "yoZ6Jegskh7W"
      },
      "execution_count": 46,
      "outputs": []
    },
    {
      "cell_type": "code",
      "source": [
        "# @title\n",
        "#3\n",
        "#구간별 2차 선형 다항식\n",
        "def Bi_Linear(n, m, x_, y_, z_, input):\n",
        "  i = 0\n",
        "  for k in range(n):\n",
        "    if not (input[0] - x_[k]) > 0:\n",
        "      i = k + 1\n",
        "      break\n",
        "\n",
        "  j = 0\n",
        "  for k in range(m):\n",
        "    if not (input[1] - y_[k]) > 0:\n",
        "      j = k + 1\n",
        "      break\n",
        "\n",
        "  p_1 = ((x_[i] - input[0])*(y_[j]-input[1])*z_[i+1,j+1] + (x_[i+1] - input[0])*(y_[j+1]-input[1])*z_[i,j]) / ((x_[i+1]-x_[i])*(y_[j+1] - y_[j]))\n",
        "  p_2 = ((x_[i+1] - input[0])*(y_[j]-input[1])*z_[i,j+1] + (x_[i] - input[0])*(y_[j+1]-input[1])*z_[i+1,j]) / ((x_[i+1]-x_[i])*(y_[j+1] - y_[j]))\n",
        "  p = p_1 - p_2\n",
        "\n",
        "  return p"
      ],
      "metadata": {
        "id": "YlC5rdHEsgIy"
      },
      "execution_count": 105,
      "outputs": []
    },
    {
      "cell_type": "code",
      "source": [
        "x_13 = [0, 1, 2, 3]\n",
        "y_13 = [-1, 0, 1]\n",
        "X_13, Y_13 = np.meshgrid(x_13, y_13)\n",
        "z_13 = np.exp(X_13 + Y_13)\n",
        "z_13 = np.transpose(z_13)"
      ],
      "metadata": {
        "id": "MtFSkdGd-d7D"
      },
      "execution_count": 106,
      "outputs": []
    },
    {
      "cell_type": "code",
      "source": [
        "z_13"
      ],
      "metadata": {
        "colab": {
          "base_uri": "https://localhost:8080/"
        },
        "id": "lOMBoGGD_RKY",
        "outputId": "0f763c18-dc66-4fa3-91b2-6b9f1137e26c"
      },
      "execution_count": 107,
      "outputs": [
        {
          "output_type": "execute_result",
          "data": {
            "text/plain": [
              "array([[ 0.36787944,  1.        ,  2.71828183],\n",
              "       [ 1.        ,  2.71828183,  7.3890561 ],\n",
              "       [ 2.71828183,  7.3890561 , 20.08553692],\n",
              "       [ 7.3890561 , 20.08553692, 54.59815003]])"
            ]
          },
          "metadata": {},
          "execution_count": 107
        }
      ]
    },
    {
      "cell_type": "code",
      "source": [
        "x_03 = np.arange(-0.1, 3.1, 0.01)\n",
        "y_03 = np.arange(-1.1, 0.1, 0.01)\n",
        "\n",
        "\n",
        "p_13 = np.array([ Bi_Linear(3, 2, x_13, y_13, z_13, (x__, y__)) for x__, y__ in (x_03, y_03) ])\n",
        "\n",
        "plt.scatter(x_03, q_031)\n",
        "plt.scatter(x_03, q_032)\n",
        "plt.show()"
      ],
      "metadata": {
        "colab": {
          "base_uri": "https://localhost:8080/",
          "height": 349
        },
        "id": "BrDpFzS__R1A",
        "outputId": "f6c57b56-7454-4a87-f7a7-96e17e5f0407"
      },
      "execution_count": 101,
      "outputs": [
        {
          "output_type": "error",
          "ename": "ValueError",
          "evalue": "too many values to unpack (expected 2)",
          "traceback": [
            "\u001b[0;31m---------------------------------------------------------------------------\u001b[0m",
            "\u001b[0;31mValueError\u001b[0m                                Traceback (most recent call last)",
            "\u001b[0;32m<ipython-input-101-552f0a257752>\u001b[0m in \u001b[0;36m<cell line: 5>\u001b[0;34m()\u001b[0m\n\u001b[1;32m      3\u001b[0m \u001b[0;34m\u001b[0m\u001b[0m\n\u001b[1;32m      4\u001b[0m \u001b[0;34m\u001b[0m\u001b[0m\n\u001b[0;32m----> 5\u001b[0;31m \u001b[0mp_13\u001b[0m \u001b[0;34m=\u001b[0m \u001b[0mnp\u001b[0m\u001b[0;34m.\u001b[0m\u001b[0marray\u001b[0m\u001b[0;34m(\u001b[0m\u001b[0;34m[\u001b[0m \u001b[0mBi_Linear\u001b[0m\u001b[0;34m(\u001b[0m\u001b[0;36m3\u001b[0m\u001b[0;34m,\u001b[0m \u001b[0;36m2\u001b[0m\u001b[0;34m,\u001b[0m \u001b[0mx_13\u001b[0m\u001b[0;34m,\u001b[0m \u001b[0my_13\u001b[0m\u001b[0;34m,\u001b[0m \u001b[0mz_13\u001b[0m\u001b[0;34m,\u001b[0m \u001b[0;34m(\u001b[0m\u001b[0mx__\u001b[0m\u001b[0;34m,\u001b[0m \u001b[0my__\u001b[0m\u001b[0;34m)\u001b[0m\u001b[0;34m)\u001b[0m \u001b[0;32mfor\u001b[0m \u001b[0mx__\u001b[0m\u001b[0;34m,\u001b[0m \u001b[0my__\u001b[0m \u001b[0;32min\u001b[0m \u001b[0;34m(\u001b[0m\u001b[0mx_03\u001b[0m\u001b[0;34m,\u001b[0m \u001b[0my_03\u001b[0m\u001b[0;34m)\u001b[0m \u001b[0;34m]\u001b[0m\u001b[0;34m)\u001b[0m\u001b[0;34m\u001b[0m\u001b[0;34m\u001b[0m\u001b[0m\n\u001b[0m\u001b[1;32m      6\u001b[0m \u001b[0;34m\u001b[0m\u001b[0m\n\u001b[1;32m      7\u001b[0m \u001b[0mplt\u001b[0m\u001b[0;34m.\u001b[0m\u001b[0mscatter\u001b[0m\u001b[0;34m(\u001b[0m\u001b[0mx_03\u001b[0m\u001b[0;34m,\u001b[0m \u001b[0mq_031\u001b[0m\u001b[0;34m)\u001b[0m\u001b[0;34m\u001b[0m\u001b[0;34m\u001b[0m\u001b[0m\n",
            "\u001b[0;32m<ipython-input-101-552f0a257752>\u001b[0m in \u001b[0;36m<listcomp>\u001b[0;34m(.0)\u001b[0m\n\u001b[1;32m      3\u001b[0m \u001b[0;34m\u001b[0m\u001b[0m\n\u001b[1;32m      4\u001b[0m \u001b[0;34m\u001b[0m\u001b[0m\n\u001b[0;32m----> 5\u001b[0;31m \u001b[0mp_13\u001b[0m \u001b[0;34m=\u001b[0m \u001b[0mnp\u001b[0m\u001b[0;34m.\u001b[0m\u001b[0marray\u001b[0m\u001b[0;34m(\u001b[0m\u001b[0;34m[\u001b[0m \u001b[0mBi_Linear\u001b[0m\u001b[0;34m(\u001b[0m\u001b[0;36m3\u001b[0m\u001b[0;34m,\u001b[0m \u001b[0;36m2\u001b[0m\u001b[0;34m,\u001b[0m \u001b[0mx_13\u001b[0m\u001b[0;34m,\u001b[0m \u001b[0my_13\u001b[0m\u001b[0;34m,\u001b[0m \u001b[0mz_13\u001b[0m\u001b[0;34m,\u001b[0m \u001b[0;34m(\u001b[0m\u001b[0mx__\u001b[0m\u001b[0;34m,\u001b[0m \u001b[0my__\u001b[0m\u001b[0;34m)\u001b[0m\u001b[0;34m)\u001b[0m \u001b[0;32mfor\u001b[0m \u001b[0mx__\u001b[0m\u001b[0;34m,\u001b[0m \u001b[0my__\u001b[0m \u001b[0;32min\u001b[0m \u001b[0;34m(\u001b[0m\u001b[0mx_03\u001b[0m\u001b[0;34m,\u001b[0m \u001b[0my_03\u001b[0m\u001b[0;34m)\u001b[0m \u001b[0;34m]\u001b[0m\u001b[0;34m)\u001b[0m\u001b[0;34m\u001b[0m\u001b[0;34m\u001b[0m\u001b[0m\n\u001b[0m\u001b[1;32m      6\u001b[0m \u001b[0;34m\u001b[0m\u001b[0m\n\u001b[1;32m      7\u001b[0m \u001b[0mplt\u001b[0m\u001b[0;34m.\u001b[0m\u001b[0mscatter\u001b[0m\u001b[0;34m(\u001b[0m\u001b[0mx_03\u001b[0m\u001b[0;34m,\u001b[0m \u001b[0mq_031\u001b[0m\u001b[0;34m)\u001b[0m\u001b[0;34m\u001b[0m\u001b[0;34m\u001b[0m\u001b[0m\n",
            "\u001b[0;31mValueError\u001b[0m: too many values to unpack (expected 2)"
          ]
        }
      ]
    },
    {
      "cell_type": "code",
      "source": [
        "y_13"
      ],
      "metadata": {
        "colab": {
          "base_uri": "https://localhost:8080/"
        },
        "id": "CMOfnvWm_ovv",
        "outputId": "26453b87-9357-43e9-f70b-785b06f24c2c"
      },
      "execution_count": 85,
      "outputs": [
        {
          "output_type": "execute_result",
          "data": {
            "text/plain": [
              "array([[-1, -1, -1, -1],\n",
              "       [ 0,  0,  0,  0],\n",
              "       [ 1,  1,  1,  1]])"
            ]
          },
          "metadata": {},
          "execution_count": 85
        }
      ]
    },
    {
      "cell_type": "code",
      "source": [
        "p_13 = np.array([ Bi_Linear(3, 2, x_13, y_13, z_13, (x__, y__)) for x__, y__ in zip(x_03, y_03) ])"
      ],
      "metadata": {
        "colab": {
          "base_uri": "https://localhost:8080/",
          "height": 355
        },
        "id": "H_s6b9ox_tHI",
        "outputId": "9e45368f-d06e-4c4e-8b12-a0e40af055cd"
      },
      "execution_count": 109,
      "outputs": [
        {
          "output_type": "error",
          "ename": "IndexError",
          "evalue": "index 3 is out of bounds for axis 1 with size 3",
          "traceback": [
            "\u001b[0;31m---------------------------------------------------------------------------\u001b[0m",
            "\u001b[0;31mIndexError\u001b[0m                                Traceback (most recent call last)",
            "\u001b[0;32m<ipython-input-109-0c0295bad2ef>\u001b[0m in \u001b[0;36m<cell line: 1>\u001b[0;34m()\u001b[0m\n\u001b[0;32m----> 1\u001b[0;31m \u001b[0mp_13\u001b[0m \u001b[0;34m=\u001b[0m \u001b[0mnp\u001b[0m\u001b[0;34m.\u001b[0m\u001b[0marray\u001b[0m\u001b[0;34m(\u001b[0m\u001b[0;34m[\u001b[0m \u001b[0mBi_Linear\u001b[0m\u001b[0;34m(\u001b[0m\u001b[0;36m3\u001b[0m\u001b[0;34m,\u001b[0m \u001b[0;36m2\u001b[0m\u001b[0;34m,\u001b[0m \u001b[0mx_13\u001b[0m\u001b[0;34m,\u001b[0m \u001b[0my_13\u001b[0m\u001b[0;34m,\u001b[0m \u001b[0mz_13\u001b[0m\u001b[0;34m,\u001b[0m \u001b[0;34m(\u001b[0m\u001b[0mx__\u001b[0m\u001b[0;34m,\u001b[0m \u001b[0my__\u001b[0m\u001b[0;34m)\u001b[0m\u001b[0;34m)\u001b[0m \u001b[0;32mfor\u001b[0m \u001b[0mx__\u001b[0m\u001b[0;34m,\u001b[0m \u001b[0my__\u001b[0m \u001b[0;32min\u001b[0m \u001b[0mzip\u001b[0m\u001b[0;34m(\u001b[0m\u001b[0mx_03\u001b[0m\u001b[0;34m,\u001b[0m \u001b[0my_03\u001b[0m\u001b[0;34m)\u001b[0m \u001b[0;34m]\u001b[0m\u001b[0;34m)\u001b[0m\u001b[0;34m\u001b[0m\u001b[0;34m\u001b[0m\u001b[0m\n\u001b[0m",
            "\u001b[0;32m<ipython-input-109-0c0295bad2ef>\u001b[0m in \u001b[0;36m<listcomp>\u001b[0;34m(.0)\u001b[0m\n\u001b[0;32m----> 1\u001b[0;31m \u001b[0mp_13\u001b[0m \u001b[0;34m=\u001b[0m \u001b[0mnp\u001b[0m\u001b[0;34m.\u001b[0m\u001b[0marray\u001b[0m\u001b[0;34m(\u001b[0m\u001b[0;34m[\u001b[0m \u001b[0mBi_Linear\u001b[0m\u001b[0;34m(\u001b[0m\u001b[0;36m3\u001b[0m\u001b[0;34m,\u001b[0m \u001b[0;36m2\u001b[0m\u001b[0;34m,\u001b[0m \u001b[0mx_13\u001b[0m\u001b[0;34m,\u001b[0m \u001b[0my_13\u001b[0m\u001b[0;34m,\u001b[0m \u001b[0mz_13\u001b[0m\u001b[0;34m,\u001b[0m \u001b[0;34m(\u001b[0m\u001b[0mx__\u001b[0m\u001b[0;34m,\u001b[0m \u001b[0my__\u001b[0m\u001b[0;34m)\u001b[0m\u001b[0;34m)\u001b[0m \u001b[0;32mfor\u001b[0m \u001b[0mx__\u001b[0m\u001b[0;34m,\u001b[0m \u001b[0my__\u001b[0m \u001b[0;32min\u001b[0m \u001b[0mzip\u001b[0m\u001b[0;34m(\u001b[0m\u001b[0mx_03\u001b[0m\u001b[0;34m,\u001b[0m \u001b[0my_03\u001b[0m\u001b[0;34m)\u001b[0m \u001b[0;34m]\u001b[0m\u001b[0;34m)\u001b[0m\u001b[0;34m\u001b[0m\u001b[0;34m\u001b[0m\u001b[0m\n\u001b[0m",
            "\u001b[0;32m<ipython-input-105-aec712dbcc9d>\u001b[0m in \u001b[0;36mBi_Linear\u001b[0;34m(n, m, x_, y_, z_, input)\u001b[0m\n\u001b[1;32m     14\u001b[0m       \u001b[0mj\u001b[0m \u001b[0;34m=\u001b[0m \u001b[0mk\u001b[0m \u001b[0;34m+\u001b[0m \u001b[0;36m1\u001b[0m\u001b[0;34m\u001b[0m\u001b[0;34m\u001b[0m\u001b[0m\n\u001b[1;32m     15\u001b[0m       \u001b[0;32mbreak\u001b[0m\u001b[0;34m\u001b[0m\u001b[0;34m\u001b[0m\u001b[0m\n\u001b[0;32m---> 16\u001b[0;31m   \u001b[0mp_1\u001b[0m \u001b[0;34m=\u001b[0m \u001b[0;34m(\u001b[0m\u001b[0;34m(\u001b[0m\u001b[0mx_\u001b[0m\u001b[0;34m[\u001b[0m\u001b[0mi\u001b[0m\u001b[0;34m]\u001b[0m \u001b[0;34m-\u001b[0m \u001b[0minput\u001b[0m\u001b[0;34m[\u001b[0m\u001b[0;36m0\u001b[0m\u001b[0;34m]\u001b[0m\u001b[0;34m)\u001b[0m\u001b[0;34m*\u001b[0m\u001b[0;34m(\u001b[0m\u001b[0my_\u001b[0m\u001b[0;34m[\u001b[0m\u001b[0mj\u001b[0m\u001b[0;34m]\u001b[0m\u001b[0;34m-\u001b[0m\u001b[0minput\u001b[0m\u001b[0;34m[\u001b[0m\u001b[0;36m1\u001b[0m\u001b[0;34m]\u001b[0m\u001b[0;34m)\u001b[0m\u001b[0;34m*\u001b[0m\u001b[0mz_\u001b[0m\u001b[0;34m[\u001b[0m\u001b[0mi\u001b[0m\u001b[0;34m+\u001b[0m\u001b[0;36m1\u001b[0m\u001b[0;34m,\u001b[0m\u001b[0mj\u001b[0m\u001b[0;34m+\u001b[0m\u001b[0;36m1\u001b[0m\u001b[0;34m]\u001b[0m \u001b[0;34m+\u001b[0m \u001b[0;34m(\u001b[0m\u001b[0mx_\u001b[0m\u001b[0;34m[\u001b[0m\u001b[0mi\u001b[0m\u001b[0;34m+\u001b[0m\u001b[0;36m1\u001b[0m\u001b[0;34m]\u001b[0m \u001b[0;34m-\u001b[0m \u001b[0minput\u001b[0m\u001b[0;34m[\u001b[0m\u001b[0;36m0\u001b[0m\u001b[0;34m]\u001b[0m\u001b[0;34m)\u001b[0m\u001b[0;34m*\u001b[0m\u001b[0;34m(\u001b[0m\u001b[0my_\u001b[0m\u001b[0;34m[\u001b[0m\u001b[0mj\u001b[0m\u001b[0;34m+\u001b[0m\u001b[0;36m1\u001b[0m\u001b[0;34m]\u001b[0m\u001b[0;34m-\u001b[0m\u001b[0minput\u001b[0m\u001b[0;34m[\u001b[0m\u001b[0;36m1\u001b[0m\u001b[0;34m]\u001b[0m\u001b[0;34m)\u001b[0m\u001b[0;34m*\u001b[0m\u001b[0mz_\u001b[0m\u001b[0;34m[\u001b[0m\u001b[0mi\u001b[0m\u001b[0;34m,\u001b[0m\u001b[0mj\u001b[0m\u001b[0;34m]\u001b[0m\u001b[0;34m)\u001b[0m \u001b[0;34m/\u001b[0m \u001b[0;34m(\u001b[0m\u001b[0;34m(\u001b[0m\u001b[0mx_\u001b[0m\u001b[0;34m[\u001b[0m\u001b[0mi\u001b[0m\u001b[0;34m+\u001b[0m\u001b[0;36m1\u001b[0m\u001b[0;34m]\u001b[0m\u001b[0;34m-\u001b[0m\u001b[0mx_\u001b[0m\u001b[0;34m[\u001b[0m\u001b[0mi\u001b[0m\u001b[0;34m]\u001b[0m\u001b[0;34m)\u001b[0m\u001b[0;34m*\u001b[0m\u001b[0;34m(\u001b[0m\u001b[0my_\u001b[0m\u001b[0;34m[\u001b[0m\u001b[0mj\u001b[0m\u001b[0;34m+\u001b[0m\u001b[0;36m1\u001b[0m\u001b[0;34m]\u001b[0m \u001b[0;34m-\u001b[0m \u001b[0my_\u001b[0m\u001b[0;34m[\u001b[0m\u001b[0mj\u001b[0m\u001b[0;34m]\u001b[0m\u001b[0;34m)\u001b[0m\u001b[0;34m)\u001b[0m\u001b[0;34m\u001b[0m\u001b[0;34m\u001b[0m\u001b[0m\n\u001b[0m\u001b[1;32m     17\u001b[0m   \u001b[0mp_2\u001b[0m \u001b[0;34m=\u001b[0m \u001b[0;34m(\u001b[0m\u001b[0;34m(\u001b[0m\u001b[0mx_\u001b[0m\u001b[0;34m[\u001b[0m\u001b[0mi\u001b[0m\u001b[0;34m+\u001b[0m\u001b[0;36m1\u001b[0m\u001b[0;34m]\u001b[0m \u001b[0;34m-\u001b[0m \u001b[0minput\u001b[0m\u001b[0;34m[\u001b[0m\u001b[0;36m0\u001b[0m\u001b[0;34m]\u001b[0m\u001b[0;34m)\u001b[0m\u001b[0;34m*\u001b[0m\u001b[0;34m(\u001b[0m\u001b[0my_\u001b[0m\u001b[0;34m[\u001b[0m\u001b[0mj\u001b[0m\u001b[0;34m]\u001b[0m\u001b[0;34m-\u001b[0m\u001b[0minput\u001b[0m\u001b[0;34m[\u001b[0m\u001b[0;36m1\u001b[0m\u001b[0;34m]\u001b[0m\u001b[0;34m)\u001b[0m\u001b[0;34m*\u001b[0m\u001b[0mz_\u001b[0m\u001b[0;34m[\u001b[0m\u001b[0mi\u001b[0m\u001b[0;34m,\u001b[0m\u001b[0mj\u001b[0m\u001b[0;34m+\u001b[0m\u001b[0;36m1\u001b[0m\u001b[0;34m]\u001b[0m \u001b[0;34m+\u001b[0m \u001b[0;34m(\u001b[0m\u001b[0mx_\u001b[0m\u001b[0;34m[\u001b[0m\u001b[0mi\u001b[0m\u001b[0;34m]\u001b[0m \u001b[0;34m-\u001b[0m \u001b[0minput\u001b[0m\u001b[0;34m[\u001b[0m\u001b[0;36m0\u001b[0m\u001b[0;34m]\u001b[0m\u001b[0;34m)\u001b[0m\u001b[0;34m*\u001b[0m\u001b[0;34m(\u001b[0m\u001b[0my_\u001b[0m\u001b[0;34m[\u001b[0m\u001b[0mj\u001b[0m\u001b[0;34m+\u001b[0m\u001b[0;36m1\u001b[0m\u001b[0;34m]\u001b[0m\u001b[0;34m-\u001b[0m\u001b[0minput\u001b[0m\u001b[0;34m[\u001b[0m\u001b[0;36m1\u001b[0m\u001b[0;34m]\u001b[0m\u001b[0;34m)\u001b[0m\u001b[0;34m*\u001b[0m\u001b[0mz_\u001b[0m\u001b[0;34m[\u001b[0m\u001b[0mi\u001b[0m\u001b[0;34m+\u001b[0m\u001b[0;36m1\u001b[0m\u001b[0;34m,\u001b[0m\u001b[0mj\u001b[0m\u001b[0;34m]\u001b[0m\u001b[0;34m)\u001b[0m \u001b[0;34m/\u001b[0m \u001b[0;34m(\u001b[0m\u001b[0;34m(\u001b[0m\u001b[0mx_\u001b[0m\u001b[0;34m[\u001b[0m\u001b[0mi\u001b[0m\u001b[0;34m+\u001b[0m\u001b[0;36m1\u001b[0m\u001b[0;34m]\u001b[0m\u001b[0;34m-\u001b[0m\u001b[0mx_\u001b[0m\u001b[0;34m[\u001b[0m\u001b[0mi\u001b[0m\u001b[0;34m]\u001b[0m\u001b[0;34m)\u001b[0m\u001b[0;34m*\u001b[0m\u001b[0;34m(\u001b[0m\u001b[0my_\u001b[0m\u001b[0;34m[\u001b[0m\u001b[0mj\u001b[0m\u001b[0;34m+\u001b[0m\u001b[0;36m1\u001b[0m\u001b[0;34m]\u001b[0m \u001b[0;34m-\u001b[0m \u001b[0my_\u001b[0m\u001b[0;34m[\u001b[0m\u001b[0mj\u001b[0m\u001b[0;34m]\u001b[0m\u001b[0;34m)\u001b[0m\u001b[0;34m)\u001b[0m\u001b[0;34m\u001b[0m\u001b[0;34m\u001b[0m\u001b[0m\n\u001b[1;32m     18\u001b[0m   \u001b[0mp\u001b[0m \u001b[0;34m=\u001b[0m \u001b[0mp_1\u001b[0m \u001b[0;34m-\u001b[0m \u001b[0mp_2\u001b[0m\u001b[0;34m\u001b[0m\u001b[0;34m\u001b[0m\u001b[0m\n",
            "\u001b[0;31mIndexError\u001b[0m: index 3 is out of bounds for axis 1 with size 3"
          ]
        }
      ]
    },
    {
      "cell_type": "code",
      "source": [
        "Bi_Linear(3, 2, x_13, y_13, z_13, (0, 1))"
      ],
      "metadata": {
        "colab": {
          "base_uri": "https://localhost:8080/"
        },
        "id": "TyFlY-c4ElhP",
        "outputId": "fbb5cd76-7db6-4395-cc7d-68109fda3e04"
      },
      "execution_count": 108,
      "outputs": [
        {
          "output_type": "execute_result",
          "data": {
            "text/plain": [
              "-3.186703055566076"
            ]
          },
          "metadata": {},
          "execution_count": 108
        }
      ]
    },
    {
      "cell_type": "code",
      "source": [
        "y_13"
      ],
      "metadata": {
        "colab": {
          "base_uri": "https://localhost:8080/"
        },
        "id": "yc9Pceq_GQDN",
        "outputId": "3d4d0cf6-8e91-4983-d7ca-023fb68c2aa6"
      },
      "execution_count": 104,
      "outputs": [
        {
          "output_type": "execute_result",
          "data": {
            "text/plain": [
              "[-1, 0, 1]"
            ]
          },
          "metadata": {},
          "execution_count": 104
        }
      ]
    },
    {
      "cell_type": "code",
      "source": [
        "(0 - x_13[0]) == 0"
      ],
      "metadata": {
        "colab": {
          "base_uri": "https://localhost:8080/"
        },
        "id": "9i6tu5IYFQc2",
        "outputId": "56d804e5-4154-4fe4-9313-268875979d0c"
      },
      "execution_count": 99,
      "outputs": [
        {
          "output_type": "execute_result",
          "data": {
            "text/plain": [
              "array([ True, False, False, False])"
            ]
          },
          "metadata": {},
          "execution_count": 99
        }
      ]
    },
    {
      "cell_type": "code",
      "source": [
        "x_03.shape"
      ],
      "metadata": {
        "colab": {
          "base_uri": "https://localhost:8080/"
        },
        "id": "JfnLP65-E2L6",
        "outputId": "4f001a47-a16b-4084-c941-87c1ca269545"
      },
      "execution_count": 97,
      "outputs": [
        {
          "output_type": "execute_result",
          "data": {
            "text/plain": [
              "(121, 320)"
            ]
          },
          "metadata": {},
          "execution_count": 97
        }
      ]
    },
    {
      "cell_type": "code",
      "source": [
        "y_03[0].shape"
      ],
      "metadata": {
        "colab": {
          "base_uri": "https://localhost:8080/"
        },
        "id": "QFPme1UNE66u",
        "outputId": "13cea5ca-b6b3-4645-953a-ac2ad4f06486"
      },
      "execution_count": 91,
      "outputs": [
        {
          "output_type": "execute_result",
          "data": {
            "text/plain": [
              "(320,)"
            ]
          },
          "metadata": {},
          "execution_count": 91
        }
      ]
    },
    {
      "cell_type": "code",
      "source": [
        "for x__, y__ in zip(x_13, y_13):\n",
        "  print(x__, y__)"
      ],
      "metadata": {
        "colab": {
          "base_uri": "https://localhost:8080/"
        },
        "id": "5mta_KEZBKfe",
        "outputId": "35fb7ba5-6cf7-48ad-ecf2-4f4783281f0a"
      },
      "execution_count": 77,
      "outputs": [
        {
          "output_type": "stream",
          "name": "stdout",
          "text": [
            "[0 1 2 3] [-1 -1 -1 -1]\n",
            "[0 1 2 3] [0 0 0 0]\n",
            "[0 1 2 3] [1 1 1 1]\n"
          ]
        }
      ]
    },
    {
      "cell_type": "code",
      "source": [
        "x_13.shape"
      ],
      "metadata": {
        "colab": {
          "base_uri": "https://localhost:8080/"
        },
        "id": "5BzrMShODqR7",
        "outputId": "cf8af158-0a51-405e-9e2e-aa02ab8e3a4d"
      },
      "execution_count": 76,
      "outputs": [
        {
          "output_type": "execute_result",
          "data": {
            "text/plain": [
              "(3, 4)"
            ]
          },
          "metadata": {},
          "execution_count": 76
        }
      ]
    },
    {
      "cell_type": "code",
      "source": [
        "y_13"
      ],
      "metadata": {
        "colab": {
          "base_uri": "https://localhost:8080/"
        },
        "id": "Fjye41QPD_tN",
        "outputId": "7037f99e-f0f9-4560-d014-246f98f0c8ea"
      },
      "execution_count": 86,
      "outputs": [
        {
          "output_type": "execute_result",
          "data": {
            "text/plain": [
              "array([[-1, -1, -1, -1],\n",
              "       [ 0,  0,  0,  0],\n",
              "       [ 1,  1,  1,  1]])"
            ]
          },
          "metadata": {},
          "execution_count": 86
        }
      ]
    },
    {
      "cell_type": "code",
      "source": [
        "x_13"
      ],
      "metadata": {
        "colab": {
          "base_uri": "https://localhost:8080/"
        },
        "id": "USGi3XVxEHWa",
        "outputId": "0212bdce-97cc-4715-ffc9-cc8bcbe22be9"
      },
      "execution_count": 79,
      "outputs": [
        {
          "output_type": "execute_result",
          "data": {
            "text/plain": [
              "array([[0, 1, 2, 3],\n",
              "       [0, 1, 2, 3],\n",
              "       [0, 1, 2, 3]])"
            ]
          },
          "metadata": {},
          "execution_count": 79
        }
      ]
    },
    {
      "cell_type": "code",
      "source": [
        "z_13"
      ],
      "metadata": {
        "colab": {
          "base_uri": "https://localhost:8080/"
        },
        "id": "7mOURdq-EIV6",
        "outputId": "3eaf598c-3c06-4329-a421-8fe5acf790a2"
      },
      "execution_count": 80,
      "outputs": [
        {
          "output_type": "execute_result",
          "data": {
            "text/plain": [
              "array([[ 0.36787944,  1.        ,  2.71828183],\n",
              "       [ 1.        ,  2.71828183,  7.3890561 ],\n",
              "       [ 2.71828183,  7.3890561 , 20.08553692],\n",
              "       [ 7.3890561 , 20.08553692, 54.59815003]])"
            ]
          },
          "metadata": {},
          "execution_count": 80
        }
      ]
    },
    {
      "cell_type": "code",
      "source": [],
      "metadata": {
        "id": "BdFfcVwCEQii"
      },
      "execution_count": null,
      "outputs": []
    }
  ]
}