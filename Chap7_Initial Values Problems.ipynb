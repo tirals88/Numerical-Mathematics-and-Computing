{
  "nbformat": 4,
  "nbformat_minor": 0,
  "metadata": {
    "colab": {
      "provenance": [],
      "authorship_tag": "ABX9TyMmd6frDIfPMlMSgdzDCjK6",
      "include_colab_link": true
    },
    "kernelspec": {
      "name": "python3",
      "display_name": "Python 3"
    },
    "language_info": {
      "name": "python"
    }
  },
  "cells": [
    {
      "cell_type": "markdown",
      "metadata": {
        "id": "view-in-github",
        "colab_type": "text"
      },
      "source": [
        "<a href=\"https://colab.research.google.com/github/tirals88/Numerical-Mathematics-and-Computing/blob/main/Chap7_Initial%20Values%20Problems.ipynb\" target=\"_parent\"><img src=\"https://colab.research.google.com/assets/colab-badge.svg\" alt=\"Open In Colab\"/></a>"
      ]
    },
    {
      "cell_type": "code",
      "execution_count": 1,
      "metadata": {
        "id": "TFW2fn8W05Vm"
      },
      "outputs": [],
      "source": [
        "import numpy as np\n",
        "import matplotlib.pyplot as plt\n",
        "import pandas as pd\n",
        "import math"
      ]
    },
    {
      "cell_type": "markdown",
      "source": [
        "# 7.1 테일러 급수법"
      ],
      "metadata": {
        "id": "qgU8arQU-DS2"
      }
    },
    {
      "cell_type": "markdown",
      "source": [
        "## 초깃값 문제: 해석 해와 수치 해 비교\n",
        "\n",
        "ODE ordinary differential equation은 미지의 함수의 1계 또는 그 이상의 $n$계 도함수를 포함하는 방정식이다. 이 장에서는 한 가지 유형의 미분방정식과 한 가지 유형의 보조 조건, 즉 1차 미분방정식에 대한 초깃값 문제 initial-value problem IVP 에 초점을 맞추려 한다. 초깃값 문제의 표준형은 다음과 같다.\n",
        "\n",
        "\\begin{equation}\n",
        "\\begin{cases}\n",
        "x' &= f(t, x) \\\\\n",
        "x(a) &= x_{0}\n",
        "\\end{cases}\n",
        "\\end{equation}\n",
        "\n",
        "$x$는 $t$의 함수로 상정되므로 더 자세하게 미분방정식을 기술하면 다음과 같다.\n",
        "\\begin{equation}\n",
        "\\frac{dx(t)}{dt} = f(t, x(t))\n",
        "\\end{equation}\n",
        "\n",
        "미분방정식의 해석 해를 얻기 위한 방법은 많이 있지만 각 방법들의 쓰임은 주로 몇몇 특수한 미분방정식으로만 한정된다. 적용 가능한 경우에는 수식의 형태로 해를 생성할 수 있지만 ***실제 문제에서는 특수한 방법으로도 해를 구할 수 없는 미분방정식이 흔하기 때문에 이런 경우에 수치 해를 모색해야 한다.*** 미분방정식의 수치해는 대개 표의 형태로 얻어진다.\n",
        "\n",
        "종종 미분방정식에 대해 수치 해를 원하게 되는데 이는 닫힌 형태 ( $x = g(t)$와 같이 독립 변수 $t$의 함수로 표현된 해를 말한다. )의 해가 매우 복잡하고 계산하기 어려울 것으로 예측되거나 다른 선택지가 없기 때문이다.\n",
        "\n",
        "예를 들어 다음과 같은 미분방정식의 해는 우변을 적분하거나 역도함수를 취함으로써  구할 수 있다.\n",
        "\n",
        "$$x' = e^{-\\sqrt{t^{2} - sin(t)}} + \\ln{|sin(t) + tanh(t^{3})}$$\n",
        "\n",
        "그 과정은 이론적으로는 가능하나 실제로는 가능하지 않다. $x(t)$를 친숙한 함수들로 표현할 수는 없다.\n",
        "\n",
        "또한 컴퓨터로 상미분방정식을 풀려면 크기가 작은 단계들이 수없이 많이 필요할 수 있으므로 상당한 양의 반올림 오차가 누적될 수 있다. 따라서 다중 정밀도 계산이 필요할 수 있다.\n"
      ],
      "metadata": {
        "id": "lUzQCDha4C7s"
      }
    }
  ]
}